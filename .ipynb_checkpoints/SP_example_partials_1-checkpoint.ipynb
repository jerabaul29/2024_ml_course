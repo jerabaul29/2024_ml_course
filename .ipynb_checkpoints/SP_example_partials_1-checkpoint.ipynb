{
 "cells": [
  {
   "cell_type": "code",
   "execution_count": null,
   "id": "23392d3e-b9ab-43db-88a0-19d1da77acf3",
   "metadata": {},
   "outputs": [],
   "source": [
    "import pickle as pkl\n",
    "import pandas as pd"
   ]
  },
  {
   "cell_type": "code",
   "execution_count": null,
   "id": "2a56a97c-4b50-4cd1-b854-4b844c6f9579",
   "metadata": {},
   "outputs": [],
   "source": [
    "with open(\"./training_data_pandas.pkl\", \"br\") as fh:\n",
    "    data = pkl.load(fh)"
   ]
  },
  {
   "cell_type": "code",
   "execution_count": null,
   "id": "2b6792a5-3391-4757-a6fb-4e197a39a5b6",
   "metadata": {},
   "outputs": [],
   "source": [
    "# TASK: some data exloration\n",
    "\n",
    "# what kind object is \"data\"?\n",
    "# what columns are there?\n",
    "# what is the list of unique station names?\n",
    "\n",
    "# rsds_stations is the in-situ observations in W/m**2\n",
    "# integral_of_surface_downwelling_shortwave_flux_in_air_wrt_time_nora3 is the nora3 estimate\n",
    "# and surface_solar_radiation_downwards_era5 the era5 one\n",
    "# these are in Wh/m**2 (accumulated hourly values); create rsds_era5 and rsds_nora3 columns in data with the same normalization as rsds_stations\n",
    "\n",
    "# plot rsds_stations for 1 station; what can you observe?\n",
    "# what is the distribution of data in the rsds_stations column for the station? Is this a well balanced dataset? What could you do to make it \"better balanced\"?"
   ]
  }
 ],
 "metadata": {
  "kernelspec": {
   "display_name": "Python 3 (ipykernel)",
   "language": "python",
   "name": "python3"
  },
  "language_info": {
   "codemirror_mode": {
    "name": "ipython",
    "version": 3
   },
   "file_extension": ".py",
   "mimetype": "text/x-python",
   "name": "python",
   "nbconvert_exporter": "python",
   "pygments_lexer": "ipython3",
   "version": "3.10.12"
  }
 },
 "nbformat": 4,
 "nbformat_minor": 5
}

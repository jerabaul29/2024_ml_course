{
 "cells": [
  {
   "cell_type": "code",
   "execution_count": null,
   "id": "23392d3e-b9ab-43db-88a0-19d1da77acf3",
   "metadata": {},
   "outputs": [],
   "source": [
    "import pickle as pkl\n",
    "import pandas as pd"
   ]
  },
  {
   "cell_type": "code",
   "execution_count": null,
   "id": "2a56a97c-4b50-4cd1-b854-4b844c6f9579",
   "metadata": {},
   "outputs": [],
   "source": [
    "with open(\"./training_data_pandas.pkl\", \"br\") as fh:\n",
    "    data = pkl.load(fh)"
   ]
  },
  {
   "cell_type": "code",
   "execution_count": null,
   "id": "2b6792a5-3391-4757-a6fb-4e197a39a5b6",
   "metadata": {},
   "outputs": [],
   "source": [
    "# TASK: some data exloration\n",
    "\n",
    "# what kind object is \"data\"?\n",
    "# what columns are there?\n",
    "# what is the list of unique station names?\n",
    "\n",
    "# rsds_stations is the in-situ observations in W/m**2\n",
    "# integral_of_surface_downwelling_shortwave_flux_in_air_wrt_time_nora3 is the nora3 estimate\n",
    "# and surface_solar_radiation_downwards_era5 the era5 one\n",
    "# these are in Wh/m**2 (accumulated hourly values); create rsds_era5 and rsds_nora3 columns in data with the same normalization as rsds_stations\n",
    "\n",
    "# plot rsds_stations for 1 station; what can you observe?\n",
    "# what is the distribution of data in the rsds_stations column for the station? Is this a well balanced dataset? What could you do to make it \"better balanced\"?"
   ]
  },
  {
   "cell_type": "code",
   "execution_count": null,
   "id": "378aa143-d8b1-49d0-ad9f-f4b89185b4c4",
   "metadata": {},
   "outputs": [],
   "source": [
    "data"
   ]
  },
  {
   "cell_type": "code",
   "execution_count": null,
   "id": "c9a77c46-7609-4d35-84aa-1a5ca3fe2d38",
   "metadata": {},
   "outputs": [],
   "source": [
    "data.columns"
   ]
  },
  {
   "cell_type": "code",
   "execution_count": null,
   "id": "2ff99966-a4ef-4991-8dc0-b5ebe98826de",
   "metadata": {},
   "outputs": [],
   "source": [
    "data.name.unique()"
   ]
  },
  {
   "cell_type": "code",
   "execution_count": null,
   "id": "52e03108-9ab2-4d41-84c5-251f70f65afd",
   "metadata": {},
   "outputs": [],
   "source": [
    "data[\"rsds_nora3\"] = data[\"integral_of_surface_downwelling_shortwave_flux_in_air_wrt_time_nora3\"] / 3600.0"
   ]
  },
  {
   "cell_type": "code",
   "execution_count": null,
   "id": "456de6fc-aa0d-423f-80d3-bb930379fadf",
   "metadata": {},
   "outputs": [],
   "source": [
    "data[\"rsds_era5\"] = data[\"surface_solar_radiation_downwards_era5\"] / 3600.0"
   ]
  },
  {
   "cell_type": "code",
   "execution_count": null,
   "id": "b93692bc-b328-4910-b958-922afb214ec0",
   "metadata": {},
   "outputs": [],
   "source": [
    "import matplotlib.pyplot as plt"
   ]
  },
  {
   "cell_type": "code",
   "execution_count": null,
   "id": "34d943b6-f594-4b5b-9242-229afb5e03da",
   "metadata": {},
   "outputs": [],
   "source": [
    "# %matplotlib widget\n",
    "%matplotlib tk\n",
    "\n",
    "crrt_data = data[data[\"name\"] == \"OSLO - BLINDERN\"]\n",
    "\n",
    "plt.figure()\n",
    "plt.plot(crrt_data[\"time_stations\"], crrt_data[\"rsds_stations\"])\n",
    "plt.ylabel(\"W/m**2\")\n",
    "plt.show()"
   ]
  },
  {
   "cell_type": "code",
   "execution_count": null,
   "id": "7a0dd596-1c27-43cb-bec6-be1026cf92fe",
   "metadata": {},
   "outputs": [],
   "source": [
    "# %matplotlib widget\n",
    "%matplotlib tk\n",
    "\n",
    "crrt_data = data[data[\"name\"] == \"TRONDHEIM - GLØSHAUGEN\"]\n",
    "\n",
    "plt.figure()\n",
    "plt.plot(crrt_data[\"time_stations\"], crrt_data[\"rsds_stations\"])\n",
    "plt.ylabel(\"W/m\")"
   ]
  },
  {
   "cell_type": "code",
   "execution_count": null,
   "id": "4af8886a-9f78-44c2-aa99-cbc309820776",
   "metadata": {},
   "outputs": [],
   "source": [
    "%matplotlib tk\n",
    "\n",
    "crrt_data = data[data[\"name\"] == \"TRONDHEIM - GLØSHAUGEN\"]\n",
    "\n",
    "plt.figure()\n",
    "plt.hist(crrt_data[\"rsds_stations\"], bins=300)\n",
    "plt.show()"
   ]
  },
  {
   "cell_type": "code",
   "execution_count": null,
   "id": "95743762-32ce-4238-8155-b0a5701022f9",
   "metadata": {},
   "outputs": [],
   "source": [
    "##################################################################################################################"
   ]
  },
  {
   "cell_type": "code",
   "execution_count": null,
   "id": "cc61b605-e317-4634-875f-27dc6b960436",
   "metadata": {},
   "outputs": [],
   "source": [
    "# TASK: prepare the data\n",
    "\n",
    "# Keep only the data where:\n",
    "# “full_valid_flag” is True\n",
    "# rsds_stations > 50.0\n",
    "# rsds_nora3 > 50.0\n",
    "\n",
    "# split between the training and validation datasets; use as a validation dataset the specific stations:\n",
    "# \"DOVRE-LANNEM\",\n",
    "# \"TJØLLING\",\n",
    "# \"GRAN\",\n",
    "# \"RAKKESTAD\",\n",
    "# \"ÅS\",\n",
    "# make *really* sure that the stations are well separated between the two, this is really important!"
   ]
  }
 ],
 "metadata": {
  "kernelspec": {
   "display_name": "Python 3 (ipykernel)",
   "language": "python",
   "name": "python3"
  },
  "language_info": {
   "codemirror_mode": {
    "name": "ipython",
    "version": 3
   },
   "file_extension": ".py",
   "mimetype": "text/x-python",
   "name": "python",
   "nbconvert_exporter": "python",
   "pygments_lexer": "ipython3",
   "version": "3.10.12"
  }
 },
 "nbformat": 4,
 "nbformat_minor": 5
}
